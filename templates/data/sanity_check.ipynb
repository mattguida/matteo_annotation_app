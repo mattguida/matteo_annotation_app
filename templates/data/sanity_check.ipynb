{
 "cells": [
  {
   "cell_type": "code",
   "execution_count": 27,
   "id": "886412d0",
   "metadata": {},
   "outputs": [],
   "source": [
    "import os, json\n",
    "import pandas as pd\n",
    "import random\n",
    "import numpy as np\n",
    "from collections import defaultdict, Counter\n"
   ]
  },
  {
   "cell_type": "code",
   "execution_count": 28,
   "id": "2fe03bfc",
   "metadata": {},
   "outputs": [
    {
     "name": "stdout",
     "output_type": "stream",
     "text": [
      "560\n"
     ]
    },
    {
     "data": {
      "text/html": [
       "<div>\n",
       "<style scoped>\n",
       "    .dataframe tbody tr th:only-of-type {\n",
       "        vertical-align: middle;\n",
       "    }\n",
       "\n",
       "    .dataframe tbody tr th {\n",
       "        vertical-align: top;\n",
       "    }\n",
       "\n",
       "    .dataframe thead th {\n",
       "        text-align: right;\n",
       "    }\n",
       "</style>\n",
       "<table border=\"1\" class=\"dataframe\">\n",
       "  <thead>\n",
       "    <tr style=\"text-align: right;\">\n",
       "      <th></th>\n",
       "      <th>sentence_text</th>\n",
       "      <th>label</th>\n",
       "    </tr>\n",
       "  </thead>\n",
       "  <tbody>\n",
       "  </tbody>\n",
       "</table>\n",
       "</div>"
      ],
      "text/plain": [
       "Empty DataFrame\n",
       "Columns: [sentence_text, label]\n",
       "Index: []"
      ]
     },
     "execution_count": 28,
     "metadata": {},
     "output_type": "execute_result"
    }
   ],
   "source": [
    "data = pd.read_json(\n",
    "    \"/Users/guida/mfc_fine_tuning/fine_tuned_roberta/final_model_no_15/inferences/kl_divergence_15/samples_for_annotation/sample_sfu_combined_stratified.json\",\n",
    "    lines=True\n",
    ")\n",
    "print(len(data))\n",
    "duplicates = data[data.duplicated('sentence_text', keep=False)]\n",
    "duplicates"
   ]
  },
  {
   "cell_type": "markdown",
   "id": "24a72885",
   "metadata": {},
   "source": [
    "## Prepare new files"
   ]
  },
  {
   "cell_type": "code",
   "execution_count": 29,
   "id": "c2aa6da2",
   "metadata": {},
   "outputs": [],
   "source": [
    "random.seed(42)"
   ]
  },
  {
   "cell_type": "code",
   "execution_count": 30,
   "id": "3f2a9fdb",
   "metadata": {},
   "outputs": [
    {
     "name": "stdout",
     "output_type": "stream",
     "text": [
      "Session 2: total=200, overlap=20, unique=180, duplicates_within=0\n",
      "Session 3: total=160, overlap=20, unique=140, duplicates_within=0\n",
      "Total distinct overlapping sentences across sessions 2 and 3: 0\n"
     ]
    }
   ],
   "source": [
    "df = data.sample(frac=1, random_state=42).reset_index(drop=True)\n",
    "\n",
    "overlap_sentences = df.iloc[:60]\n",
    "unique_sentences = df.iloc[60:]\n",
    "\n",
    "for i in range(1, 3):  # i = 1, 2  -> sessions 2 and 3\n",
    "    overlap = overlap_sentences.iloc[i*20:(i+1)*20]\n",
    "    unique = unique_sentences.iloc[i*180:(i+1)*180]\n",
    "    session = pd.concat([overlap, unique]).sample(frac=1, random_state=42+i)\n",
    "    session.to_json(f'annotation_session_{i+1}.jsonl', orient='records', lines=True)\n",
    "\n",
    "sessions = []\n",
    "for i in range(1, 3):  # again load sessions 2 and 3 only\n",
    "    s = pd.read_json(f'annotation_session_{i+1}.jsonl', lines=True)\n",
    "    sessions.append(s)\n",
    "\n",
    "for i, s in enumerate(sessions, 2):  # start enumeration from 2 to reflect session numbers\n",
    "    total = len(s)\n",
    "    overlap = len(s.merge(overlap_sentences, on='sentence_text'))\n",
    "    unique = total - overlap\n",
    "    dupes_within = s.duplicated('sentence_text').sum()\n",
    "    print(f'Session {i}: total={total}, overlap={overlap}, unique={unique}, duplicates_within={dupes_within}')\n",
    "\n",
    "if len(sessions) == 2:\n",
    "    overlap_across = sessions[0].merge(sessions[1], on='sentence_text')\n",
    "    print(f'Total distinct overlapping sentences across sessions 2 and 3: {len(overlap_across)}')"
   ]
  },
  {
   "cell_type": "code",
   "execution_count": 31,
   "id": "fb48dd6c",
   "metadata": {},
   "outputs": [
    {
     "data": {
      "text/plain": [
       "sentence_text\n",
       "I would hope Canadians in Quebec and the ROC will send him a message he can't ignore, boycott anything he touches.                                                                                                                                                                                                                               1\n",
       "While addiction may call for forgiveness if I don't care for my children, I still must do so or arrange for others to do so.                                                                                                                                                                                                                     1\n",
       "No kidding G+M .....are you just waking up from a 6 year slumber to that which rest of us with a brain in our head knew since 2006???                                                                                                                                                                                                            1\n",
       "My power rates keep going up ,but Ontario is actually selling power at discount rates and in some cases paying the USA to take the power .                                                                                                                                                                                                       1\n",
       "As for those that point out the results of the UN sponsored poll showing climate change in last place on the world's concerns - well, that easy to understand.                                                                                                                                                                                   1\n",
       "                                                                                                                                                                                                                                                                                                                                                ..\n",
       "Signs that say ' Idle No More ', protest rallies, blocked highways and railroads, drum beating while chanting ' this land is my land, this land is our land' or the revised version of O Canada.                                                                                                                                                 1\n",
       "There should be independant patient advocates employed by the province in each hospital who know the system and whom the patents or their family can turn to.                                                                                                                                                                                    1\n",
       "Here's some better science-based journalism on ebola transmission for anyone who's interested in the West Africa outbreak: http://www.npr.org/blogs/goatsandsoda/2014/08/28/343734184/ebola-is-rapidly-mutating-as-it-spreads-across-west-africaThat 'bush meat' story is bunk, and this whole 'nothing to fear' mantra is a load of hogwash.    1\n",
       "The health care ayatollahs seem to believe in evidence based medicine as long as it is not too expensive... and don't believe in a evidence based health care system.                                                                                                                                                                            1\n",
       "We have seen an increase from a dozen identifiable ethnic enclaves three decades ago to over one hundred and fourty today.                                                                                                                                                                                                                       1\n",
       "Name: count, Length: 160, dtype: int64"
      ]
     },
     "execution_count": 31,
     "metadata": {},
     "output_type": "execute_result"
    }
   ],
   "source": [
    "sesh2 = pd.read_json('annotation_session_3.jsonl', lines=True)\n",
    "sesh2['sentence_text'].value_counts()"
   ]
  },
  {
   "cell_type": "code",
   "execution_count": null,
   "id": "7c38acd1",
   "metadata": {},
   "outputs": [
    {
     "data": {
      "text/html": [
       "<div>\n",
       "<style scoped>\n",
       "    .dataframe tbody tr th:only-of-type {\n",
       "        vertical-align: middle;\n",
       "    }\n",
       "\n",
       "    .dataframe tbody tr th {\n",
       "        vertical-align: top;\n",
       "    }\n",
       "\n",
       "    .dataframe thead th {\n",
       "        text-align: right;\n",
       "    }\n",
       "</style>\n",
       "<table border=\"1\" class=\"dataframe\">\n",
       "  <thead>\n",
       "    <tr style=\"text-align: right;\">\n",
       "      <th></th>\n",
       "      <th>count</th>\n",
       "      <th>percentage</th>\n",
       "    </tr>\n",
       "    <tr>\n",
       "      <th>label</th>\n",
       "      <th></th>\n",
       "      <th></th>\n",
       "    </tr>\n",
       "  </thead>\n",
       "  <tbody>\n",
       "    <tr>\n",
       "      <th>1</th>\n",
       "      <td>102</td>\n",
       "      <td>18.21</td>\n",
       "    </tr>\n",
       "    <tr>\n",
       "      <th>6</th>\n",
       "      <td>92</td>\n",
       "      <td>16.43</td>\n",
       "    </tr>\n",
       "    <tr>\n",
       "      <th>5</th>\n",
       "      <td>76</td>\n",
       "      <td>13.57</td>\n",
       "    </tr>\n",
       "    <tr>\n",
       "      <th>9</th>\n",
       "      <td>60</td>\n",
       "      <td>10.71</td>\n",
       "    </tr>\n",
       "    <tr>\n",
       "      <th>11</th>\n",
       "      <td>51</td>\n",
       "      <td>9.11</td>\n",
       "    </tr>\n",
       "    <tr>\n",
       "      <th>8</th>\n",
       "      <td>44</td>\n",
       "      <td>7.86</td>\n",
       "    </tr>\n",
       "    <tr>\n",
       "      <th>4</th>\n",
       "      <td>44</td>\n",
       "      <td>7.86</td>\n",
       "    </tr>\n",
       "    <tr>\n",
       "      <th>12</th>\n",
       "      <td>41</td>\n",
       "      <td>7.32</td>\n",
       "    </tr>\n",
       "    <tr>\n",
       "      <th>3</th>\n",
       "      <td>38</td>\n",
       "      <td>6.79</td>\n",
       "    </tr>\n",
       "    <tr>\n",
       "      <th>15</th>\n",
       "      <td>12</td>\n",
       "      <td>2.14</td>\n",
       "    </tr>\n",
       "  </tbody>\n",
       "</table>\n",
       "</div>"
      ],
      "text/plain": [
       "       count  percentage\n",
       "label                   \n",
       "1        102       18.21\n",
       "6         92       16.43\n",
       "5         76       13.57\n",
       "9         60       10.71\n",
       "11        51        9.11\n",
       "8         44        7.86\n",
       "4         44        7.86\n",
       "12        41        7.32\n",
       "3         38        6.79\n",
       "15        12        2.14"
      ]
     },
     "execution_count": 33,
     "metadata": {},
     "output_type": "execute_result"
    }
   ],
   "source": [
    "session_paths = [\n",
    "    \"/Users/guida/matteo_annotation_app/templates/data/annotation_session_1.jsonl\",\n",
    "    \"/Users/guida/matteo_annotation_app/templates/data/annotation_session_2.jsonl\",\n",
    "    \"/Users/guida/matteo_annotation_app/templates/data/annotation_session_3.jsonl\"\n",
    "]\n",
    "\n",
    "all_sessions = pd.concat([pd.read_json(path, lines=True) for path in session_paths], ignore_index=True)\n",
    "\n",
    "label_counts = all_sessions['label'].value_counts()\n",
    "label_percentages = all_sessions['label'].value_counts(normalize=True) * 100\n",
    "\n",
    "label_distribution = pd.DataFrame({\n",
    "    'count': label_counts,\n",
    "    'percentage': label_percentages.round(2)\n",
    "})\n",
    "label_distribution"
   ]
  }
 ],
 "metadata": {
  "kernelspec": {
   "display_name": "Python 3",
   "language": "python",
   "name": "python3"
  },
  "language_info": {
   "codemirror_mode": {
    "name": "ipython",
    "version": 3
   },
   "file_extension": ".py",
   "mimetype": "text/x-python",
   "name": "python",
   "nbconvert_exporter": "python",
   "pygments_lexer": "ipython3",
   "version": "3.12.2"
  }
 },
 "nbformat": 4,
 "nbformat_minor": 5
}
