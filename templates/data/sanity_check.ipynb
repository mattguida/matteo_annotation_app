{
 "cells": [
  {
   "cell_type": "code",
   "execution_count": 48,
   "id": "886412d0",
   "metadata": {},
   "outputs": [],
   "source": [
    "import os, json\n",
    "import pandas as pd\n",
    "import random\n",
    "import numpy as np\n",
    "from collections import defaultdict, Counter\n"
   ]
  },
  {
   "cell_type": "code",
   "execution_count": 49,
   "id": "2fe03bfc",
   "metadata": {},
   "outputs": [
    {
     "name": "stdout",
     "output_type": "stream",
     "text": [
      "600\n"
     ]
    },
    {
     "data": {
      "text/html": [
       "<div>\n",
       "<style scoped>\n",
       "    .dataframe tbody tr th:only-of-type {\n",
       "        vertical-align: middle;\n",
       "    }\n",
       "\n",
       "    .dataframe tbody tr th {\n",
       "        vertical-align: top;\n",
       "    }\n",
       "\n",
       "    .dataframe thead th {\n",
       "        text-align: right;\n",
       "    }\n",
       "</style>\n",
       "<table border=\"1\" class=\"dataframe\">\n",
       "  <thead>\n",
       "    <tr style=\"text-align: right;\">\n",
       "      <th></th>\n",
       "      <th>sentence_text</th>\n",
       "      <th>label</th>\n",
       "    </tr>\n",
       "  </thead>\n",
       "  <tbody>\n",
       "  </tbody>\n",
       "</table>\n",
       "</div>"
      ],
      "text/plain": [
       "Empty DataFrame\n",
       "Columns: [sentence_text, label]\n",
       "Index: []"
      ]
     },
     "execution_count": 49,
     "metadata": {},
     "output_type": "execute_result"
    }
   ],
   "source": [
    "data = pd.read_json(\"sample_sfu_combined.jsonl\", lines=True)\n",
    "print(len(data))\n",
    "duplicates = data[data.duplicated('sentence_text', keep=False)]\n",
    "duplicates"
   ]
  },
  {
   "cell_type": "markdown",
   "id": "24a72885",
   "metadata": {},
   "source": [
    "## Prepare new files"
   ]
  },
  {
   "cell_type": "code",
   "execution_count": 50,
   "id": "c2aa6da2",
   "metadata": {},
   "outputs": [],
   "source": [
    "random.seed(42)"
   ]
  },
  {
   "cell_type": "code",
   "execution_count": 58,
   "id": "3f2a9fdb",
   "metadata": {},
   "outputs": [
    {
     "name": "stdout",
     "output_type": "stream",
     "text": [
      "Session 1: total=200, overlap=20, unique=180, duplicates_within=0\n",
      "Session 2: total=200, overlap=20, unique=180, duplicates_within=0\n",
      "Session 3: total=200, overlap=20, unique=180, duplicates_within=0\n",
      "Total distinct overlapping sentences across sessions: 0\n"
     ]
    }
   ],
   "source": [
    "df = data.sample(frac=1, random_state=42).reset_index(drop=True)\n",
    "\n",
    "overlap_sentences = df.iloc[:60]\n",
    "unique_sentences = df.iloc[60:]\n",
    "\n",
    "for i in range(3):\n",
    "    overlap = overlap_sentences.iloc[i*20:(i+1)*20]\n",
    "    unique = unique_sentences.iloc[i*180:(i+1)*180]\n",
    "    session = pd.concat([overlap, unique]).sample(frac=1, random_state=42+i)\n",
    "    session.to_json(f'annotation_session_{i+1}.jsonl', orient='records', lines=True)\n",
    "\n",
    "sessions = []\n",
    "for i in range(3):\n",
    "    s = pd.read_json(f'annotation_session_{i+1}.jsonl', lines=True)\n",
    "    sessions.append(s)\n",
    "\n",
    "for i, s in enumerate(sessions, 1):\n",
    "    total = len(s)\n",
    "    overlap = len(s.merge(overlap_sentences, on='sentence_text'))\n",
    "    unique = total - overlap\n",
    "    dupes_within = s.duplicated('sentence_text').sum()\n",
    "    print(f'Session {i}: total={total}, overlap={overlap}, unique={unique}, duplicates_within={dupes_within}')\n",
    "\n",
    "overlap_across = sessions[0].merge(sessions[1], on='sentence_text').merge(sessions[2], on='sentence_text')\n",
    "print(f'Total distinct overlapping sentences across sessions: {len(overlap_across)}')"
   ]
  }
 ],
 "metadata": {
  "kernelspec": {
   "display_name": "Python 3",
   "language": "python",
   "name": "python3"
  },
  "language_info": {
   "codemirror_mode": {
    "name": "ipython",
    "version": 3
   },
   "file_extension": ".py",
   "mimetype": "text/x-python",
   "name": "python",
   "nbconvert_exporter": "python",
   "pygments_lexer": "ipython3",
   "version": "3.12.2"
  }
 },
 "nbformat": 4,
 "nbformat_minor": 5
}
